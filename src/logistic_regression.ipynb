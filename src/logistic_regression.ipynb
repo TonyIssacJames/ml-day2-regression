{
 "cells": [
  {
   "cell_type": "code",
   "execution_count": 1,
   "metadata": {},
   "outputs": [
    {
     "name": "stderr",
     "output_type": "stream",
     "text": [
      "Updating HTML index of packages in '.Library'\n",
      "Making 'packages.html' ... done\n"
     ]
    }
   ],
   "source": [
    "install.packages(\"readr\") #install if needed\n",
    "library(readr)\n"
   ]
  },
  {
   "cell_type": "code",
   "execution_count": 2,
   "metadata": {},
   "outputs": [
    {
     "name": "stderr",
     "output_type": "stream",
     "text": [
      "Warning message in OlsonNames():\n",
      "“no Olson database found”"
     ]
    },
    {
     "ename": "ERROR",
     "evalue": "Error: Unknown TZ UTC\n",
     "output_type": "error",
     "traceback": [
      "Error: Unknown TZ UTC\nTraceback:\n",
      "1. read_csv(\"../input/train.csv\")",
      "2. read_delimited(file, tokenizer, col_names = col_names, col_types = col_types, \n .     locale = locale, skip = skip, comment = comment, n_max = n_max, \n .     guess_max = guess_max, progress = progress)",
      "3. col_spec_standardise(data, skip = skip, comment = comment, guess_max = guess_max, \n .     col_names = col_names, col_types = col_types, tokenizer = tokenizer, \n .     locale = locale)",
      "4. guess_header(ds_header, tokenizer, locale)",
      "5. guess_header_(datasource, tokenizer, locale)",
      "6. default_locale()",
      "7. locale()",
      "8. check_tz(tz)",
      "9. stop(\"Unknown TZ \", x, call. = FALSE)"
     ]
    }
   ],
   "source": [
    "train <- read_csv(\"../input/train.csv\")\n",
    "test <- read_csv(\"../input/test.csv\")\n"
   ]
  },
  {
   "cell_type": "code",
   "execution_count": null,
   "metadata": {
    "collapsed": true
   },
   "outputs": [],
   "source": [
    "\n",
    "linearModel <- lm(SalePrice ~ YrSold + MoSold + LotArea + BedroomAbvGr, data=train)\n",
    "linearPreds <- data.frame(Id = test$Id, SalePrice= predict(linearModel, test))\n",
    "write_csv(linearPreds, \"output.csv\")"
   ]
  },
  {
   "cell_type": "code",
   "execution_count": null,
   "metadata": {
    "collapsed": true
   },
   "outputs": [],
   "source": []
  }
 ],
 "metadata": {
  "kernelspec": {
   "display_name": "R",
   "language": "R",
   "name": "ir"
  },
  "language_info": {
   "codemirror_mode": "r",
   "file_extension": ".r",
   "mimetype": "text/x-r-source",
   "name": "R",
   "pygments_lexer": "r",
   "version": "3.3.2"
  }
 },
 "nbformat": 4,
 "nbformat_minor": 2
}
